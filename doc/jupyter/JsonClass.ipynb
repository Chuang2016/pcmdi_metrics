{
 "cells": [
  {
   "cell_type": "code",
   "execution_count": 1,
   "metadata": {},
   "outputs": [],
   "source": [
    "import pcmdi_metrics\n",
    "json1 = 'gfdl_080917_r1i1p1/rt_2.5x2.5_esmf_conservative_metrics.json'\n",
    "json2 = 'gfdl_080917_r2i1p1/rt_2.5x2.5_esmf_conservative_metrics.json'"
   ]
  },
  {
   "cell_type": "code",
   "execution_count": 2,
   "metadata": {},
   "outputs": [],
   "source": [
    "J1 = pcmdi_metrics.io.base.JSONs([json1])"
   ]
  },
  {
   "cell_type": "code",
   "execution_count": 3,
   "metadata": {},
   "outputs": [
    {
     "data": {
      "text/plain": [
       "['variable',\n",
       " u'model',\n",
       " u'reference',\n",
       " u'rip',\n",
       " u'region',\n",
       " u'statistic',\n",
       " u'season']"
      ]
     },
     "execution_count": 3,
     "metadata": {},
     "output_type": "execute_result"
    }
   ],
   "source": [
    "J1.getAxisIds()"
   ]
  },
  {
   "cell_type": "code",
   "execution_count": 4,
   "metadata": {},
   "outputs": [
    {
     "name": "stdout",
     "output_type": "stream",
     "text": [
      "   id: statistic\n",
      "   Length: 16\n",
      "   First:  bias_xy\n",
      "   Last:   std_xyt\n",
      "   Python id:  0x7fdca05b8b10\n",
      "\n"
     ]
    }
   ],
   "source": [
    "print J1.getAxis(\"statistic\")"
   ]
  },
  {
   "cell_type": "code",
   "execution_count": 5,
   "metadata": {},
   "outputs": [
    {
     "name": "stdout",
     "output_type": "stream",
     "text": [
      "[u'bias_xy' u'cor_xy' u'mae_xy' u'mean-obs_xy' u'mean_xy' u'rms_devzm'\n",
      " u'rms_xy' u'rms_xyt' u'rms_y' u'rmsc_xy' u'std-obs_xy' u'std-obs_xy_devzm'\n",
      " u'std-obs_xyt' u'std_xy' u'std_xy_devzm' u'std_xyt']\n"
     ]
    }
   ],
   "source": [
    "print J1.getAxis(\"statistic\")[:]"
   ]
  },
  {
   "cell_type": "code",
   "execution_count": 6,
   "metadata": {},
   "outputs": [
    {
     "name": "stdout",
     "output_type": "stream",
     "text": [
      "[u'ACCESS1-0' u'ACCESS1-3' u'BNU-ESM' u'CCSM4' u'CESM1-CAM5' u'CMCC-CM'\n",
      " u'CNRM-CM5' u'CSIRO-Mk3-6-0' u'CanAM4' u'FGOALS-s2' u'GFDL-CM3'\n",
      " u'GISS-E2-R' u'HadGEM2-A' u'IPSL-CM5A-LR' u'IPSL-CM5A-MR' u'IPSL-CM5B-LR'\n",
      " u'MIROC5' u'MPI-ESM-LR' u'MPI-ESM-MR' u'NorESM1-M' u'bcc-csm1-1'\n",
      " u'bcc-csm1-1-m' u'inmcm4']\n"
     ]
    }
   ],
   "source": [
    "print J1.getAxis(\"model\")[:]"
   ]
  },
  {
   "cell_type": "code",
   "execution_count": 7,
   "metadata": {},
   "outputs": [
    {
     "name": "stdout",
     "output_type": "stream",
     "text": [
      "(1, 3, 2, 1, 10, 2, 5)\n"
     ]
    }
   ],
   "source": [
    "data = J1(statistic=['rms_xy','std_xy'],model=['ACCESS1-0','CNRM-CM5','FGOALS-s2'])\n",
    "print data.shape"
   ]
  },
  {
   "cell_type": "code",
   "execution_count": 8,
   "metadata": {},
   "outputs": [
    {
     "name": "stdout",
     "output_type": "stream",
     "text": [
      "   id: statistic\n",
      "   Length: 2\n",
      "   First:  rms_xy\n",
      "   Last:   std_xy\n",
      "   Python id:  0x7fdca0591d50\n",
      "\n"
     ]
    }
   ],
   "source": [
    "print data.getAxis(-2)  # Now its' an MV can't get Axis by name"
   ]
  },
  {
   "cell_type": "code",
   "execution_count": 9,
   "metadata": {},
   "outputs": [
    {
     "name": "stdout",
     "output_type": "stream",
     "text": [
      "[   id: variable\n",
      "   Length: 1\n",
      "   First:  rt\n",
      "   Last:   rt\n",
      "   Python id:  0x7fdca05b8910\n",
      ",    id: model\n",
      "   Length: 3\n",
      "   First:  ACCESS1-0\n",
      "   Last:   FGOALS-s2\n",
      "   Python id:  0x7fdca0591790\n",
      ",    id: reference\n",
      "   Length: 2\n",
      "   First:  SimulationDescription\n",
      "   Last:   defaultReference\n",
      "   Python id:  0x7fdca05b86d0\n",
      ",    id: rip\n",
      "   Length: 1\n",
      "   First:  r1i1p1\n",
      "   Last:   r1i1p1\n",
      "   Python id:  0x7fdca05b82d0\n",
      ",    id: region\n",
      "   Length: 10\n",
      "   First:  20N50N\n",
      "   Last:   ocean\n",
      "   Python id:  0x7fdca05b8210\n",
      ",    id: statistic\n",
      "   Length: 2\n",
      "   First:  rms_xy\n",
      "   Last:   std_xy\n",
      "   Python id:  0x7fdca0591d50\n",
      ",    id: season\n",
      "   Length: 5\n",
      "   First:  ann\n",
      "   Last:   son\n",
      "   Python id:  0x7fdca05b8b50\n",
      "]\n"
     ]
    }
   ],
   "source": [
    "print data.getAxisList()"
   ]
  },
  {
   "cell_type": "code",
   "execution_count": 10,
   "metadata": {
    "collapsed": true
   },
   "outputs": [],
   "source": [
    "J12 = pcmdi_metrics.io.base.JSONs([json1,json2])"
   ]
  },
  {
   "cell_type": "code",
   "execution_count": 11,
   "metadata": {},
   "outputs": [
    {
     "data": {
      "text/plain": [
       "['variable',\n",
       " u'model',\n",
       " u'reference',\n",
       " u'rip',\n",
       " u'region',\n",
       " u'statistic',\n",
       " u'season']"
      ]
     },
     "execution_count": 11,
     "metadata": {},
     "output_type": "execute_result"
    }
   ],
   "source": [
    "J12.getAxisIds()"
   ]
  },
  {
   "cell_type": "code",
   "execution_count": 12,
   "metadata": {},
   "outputs": [
    {
     "data": {
      "text/plain": [
       "   id: rip\n",
       "   Length: 2\n",
       "   First:  r1i1p1\n",
       "   Last:   r2i1p1\n",
       "   Python id:  0x7fdca05e4a50"
      ]
     },
     "execution_count": 12,
     "metadata": {},
     "output_type": "execute_result"
    }
   ],
   "source": [
    "J12.getAxis('rip')"
   ]
  },
  {
   "cell_type": "code",
   "execution_count": 13,
   "metadata": {},
   "outputs": [
    {
     "name": "stdout",
     "output_type": "stream",
     "text": [
      "(1, 3, 2, 2, 10, 2, 5)\n"
     ]
    }
   ],
   "source": [
    "data2 = J12(statistic=['rms_xy','std_xy'],model=['ACCESS1-0','CNRM-CM5','FGOALS-s2'])\n",
    "print data2.shape"
   ]
  },
  {
   "cell_type": "code",
   "execution_count": null,
   "metadata": {
    "collapsed": true
   },
   "outputs": [],
   "source": []
  }
 ],
 "metadata": {
  "kernelspec": {
   "display_name": "Python [conda env:test]",
   "language": "python",
   "name": "conda-env-test-py"
  },
  "language_info": {
   "codemirror_mode": {
    "name": "ipython",
    "version": 2
   },
   "file_extension": ".py",
   "mimetype": "text/x-python",
   "name": "python",
   "nbconvert_exporter": "python",
   "pygments_lexer": "ipython2",
   "version": "2.7.13"
  }
 },
 "nbformat": 4,
 "nbformat_minor": 2
}
