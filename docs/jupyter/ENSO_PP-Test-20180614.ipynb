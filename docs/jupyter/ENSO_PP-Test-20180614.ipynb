{
 "cells": [
  {
   "cell_type": "markdown",
   "metadata": {},
   "source": [
    "# ENSO Metrics Portrait Plot"
   ]
  },
  {
   "cell_type": "markdown",
   "metadata": {},
   "source": [
    "## Import mododules"
   ]
  },
  {
   "cell_type": "code",
   "execution_count": 1,
   "metadata": {},
   "outputs": [],
   "source": [
    "import tempfile\n",
    "import base64\n",
    "\n",
    "import glob\n",
    "import json\n",
    "import os\n",
    "import sys\n",
    "import genutil\n",
    "\n",
    "import vcs\n",
    "import MV2\n",
    "import pcmdi_metrics\n",
    "import pcmdi_metrics.graphics.portraits"
   ]
  },
  {
   "cell_type": "markdown",
   "metadata": {},
   "source": [
    "## Set up VCS Canvas"
   ]
  },
  {
   "cell_type": "code",
   "execution_count": 2,
   "metadata": {},
   "outputs": [],
   "source": [
    "class VCSAddonsNotebook(object):\n",
    "    def __init__(self,x):\n",
    "        self.x = x\n",
    "    def _repr_png_(self):\n",
    "        fnm = tempfile.mktemp()+\".png\"\n",
    "        self.x.png(fnm)\n",
    "        encoded = base64.b64encode(open(fnm, \"rb\").read())\n",
    "        return encoded\n",
    "    def __call__(self):\n",
    "        return self"
   ]
  },
  {
   "cell_type": "code",
   "execution_count": 3,
   "metadata": {},
   "outputs": [],
   "source": [
    "# VCS Canvas\n",
    "x=vcs.init(bg=True,geometry=(1200,600))\n",
    "\n",
    "show = VCSAddonsNotebook(x)\n",
    "\n",
    "# Load our \"pretty\" colormap\n",
    "x.scriptrun(\n",
    "    os.path.join(\n",
    "        sys.prefix,\n",
    "        \"share\",\n",
    "        \"pmp\",\n",
    "        \"graphics\",\n",
    "        'vcs',\n",
    "        'portraits.scr'))\n",
    "\n",
    "#x.setcolormap(\"bl_rd_12\")\n",
    "x.setcolormap(\"blue2orange\")"
   ]
  },
  {
   "cell_type": "markdown",
   "metadata": {},
   "source": [
    "## Data Read In -- 1) Axis read in"
   ]
  },
  {
   "cell_type": "code",
   "execution_count": 4,
   "metadata": {},
   "outputs": [
    {
     "name": "stdout",
     "output_type": "stream",
     "text": [
      "We are looking at 1 Json Files:\n"
     ]
    }
   ],
   "source": [
    "json_file = 'test_MC1_all_reformatted.json'\n",
    "json_files = [json_file]\n",
    "\n",
    "print \"We are looking at {:d} Json Files:\".format(len(json_files))\n",
    "J = pcmdi_metrics.io.base.JSONs(json_files)"
   ]
  },
  {
   "cell_type": "code",
   "execution_count": 5,
   "metadata": {},
   "outputs": [
    {
     "name": "stdout",
     "output_type": "stream",
     "text": [
      "['variable', u'metric', u'model', u'type', u'source', u'statistic']\n"
     ]
    }
   ],
   "source": [
    "print J.getAxisIds()"
   ]
  },
  {
   "cell_type": "code",
   "execution_count": 6,
   "metadata": {},
   "outputs": [
    {
     "name": "stdout",
     "output_type": "stream",
     "text": [
      "[u'ACCESS1-0', u'ACCESS1-3', u'CanESM2', u'CCSM4', u'CESM1-BGC', u'CESM1-CAM5', u'CESM1-FASTCHEM', u'CESM1-WACCM', u'CNRM-CM5', u'CNRM-CM5-2', u'INMCM4', u'IPSL-CM5A-LR', u'IPSL-CM5A-MR', u'IPSL-CM5B-LR', u'MPI-ESM-LR', u'MPI-ESM-MR', u'MPI-ESM-P', u'NorESM1-M', u'NorESM1-ME'] 19\n"
     ]
    }
   ],
   "source": [
    "models_list = sorted(J.getAxis(\"model\")[:], key=lambda s:s.lower())\n",
    "#models_list.remove(\"observations\")\n",
    "print models_list, len(models_list)\n"
   ]
  },
  {
   "cell_type": "code",
   "execution_count": 7,
   "metadata": {},
   "outputs": [
    {
     "name": "stdout",
     "output_type": "stream",
     "text": [
      "[u'EnsoAlphaLhf', u'EnsoAlphaLwr', u'EnsoAlphaShf', u'EnsoAlphaSwr', u'EnsoAlphaThf', u'EnsoAmpl', u'EnsoMu', u'EnsoRmse', u'EnsoSeasonality'] 9\n"
     ]
    }
   ],
   "source": [
    "metrics_list = sorted(J.getAxis(\"metric\")[:], key=lambda s:s.lower())\n",
    "print metrics_list, len(metrics_list)"
   ]
  },
  {
   "cell_type": "code",
   "execution_count": 8,
   "metadata": {},
   "outputs": [
    {
     "name": "stdout",
     "output_type": "stream",
     "text": [
      "[u'HadISST', u'HadISST_Tropflux', u'model', u'Tropflux', u'Tropflux_Tropflux'] 5\n"
     ]
    }
   ],
   "source": [
    "sources_list = sorted(J.getAxis(\"source\")[:], key=lambda s:s.lower())\n",
    "print sources_list, len(sources_list)\n",
    "sources_list.remove(\"model\")"
   ]
  },
  {
   "cell_type": "markdown",
   "metadata": {},
   "source": [
    "## Data Read In -- 2) Read statistical values"
   ]
  },
  {
   "cell_type": "code",
   "execution_count": 9,
   "metadata": {},
   "outputs": [
    {
     "ename": "RuntimeError",
     "evalue": "You asked to overwrite or fillin over the dimension source but it not a valid dimension ([   id: variable\n   Length: 1\n   First:  test\n   Last:   test\n   Python id:  0x7fe5c263c1d0\n,    id: metric\n   Length: 9\n   First:  EnsoAlphaLhf\n   Last:   EnsoSeasonality\n   Python id:  0x7fe5c263ca50\n,    id: model\n   Length: 19\n   First:  ACCESS1-0\n   Last:   NorESM1-ME\n   Python id:  0x7fe5c263cbd0\n,    id: type\n   Length: 2\n   First:  metric\n   Last:   raw\n   Python id:  0x7fe5c263c210\n,    id: source\n   Length: 5\n   First:  HadISST\n   Last:   model\n   Python id:  0x7fe5c263c150\n,    id: statistic\n   Length: 4\n   First:  nonlinearity\n   Last:   value_error\n   Python id:  0x7fe5c263cf50\n])",
     "output_type": "error",
     "traceback": [
      "\u001b[0;31m---------------------------------------------------------------------------\u001b[0m",
      "\u001b[0;31mRuntimeError\u001b[0m                              Traceback (most recent call last)",
      "\u001b[0;32m<ipython-input-9-0c76c798869b>\u001b[0m in \u001b[0;36m<module>\u001b[0;34m()\u001b[0m\n\u001b[1;32m      1\u001b[0m rms_xy = J(statistic=[\"value\"],type=[\"metric\"],source=[\"HadISST\", \"HadISST_Tropflux\"],\n\u001b[0;32m----> 2\u001b[0;31m                model=models_list,metric=metrics_list, fillin=\"source\")(squeeze=1)\n\u001b[0m\u001b[1;32m      3\u001b[0m \u001b[0;32mprint\u001b[0m \u001b[0mrms_xy\u001b[0m\u001b[0;34m.\u001b[0m\u001b[0mshape\u001b[0m\u001b[0;34m,\u001b[0m \u001b[0mrms_xy\u001b[0m\u001b[0;34m.\u001b[0m\u001b[0mcount\u001b[0m\u001b[0;34m(\u001b[0m\u001b[0;34m)\u001b[0m\u001b[0;34m\u001b[0m\u001b[0m\n",
      "\u001b[0;32m/home/doutriaux1/anaconda2/envs/pmp/lib/python2.7/site-packages/pcmdi_metrics/io/base.pyc\u001b[0m in \u001b[0;36m__call__\u001b[0;34m(self, overwrite, fillin, **kargs)\u001b[0m\n\u001b[1;32m    571\u001b[0m         \u001b[0;32mif\u001b[0m \u001b[0;32mnot\u001b[0m \u001b[0maxis\u001b[0m \u001b[0;32min\u001b[0m \u001b[0maxes\u001b[0m\u001b[0;34m:\u001b[0m\u001b[0;34m\u001b[0m\u001b[0m\n\u001b[1;32m    572\u001b[0m             raise RuntimeError(\n\u001b[0;32m--> 573\u001b[0;31m                 \"You asked to overwrite or fillin over the dimension {} but it not a valid dimension ({})\".format(axis, axes))\n\u001b[0m\u001b[1;32m    574\u001b[0m \u001b[0;34m\u001b[0m\u001b[0m\n\u001b[1;32m    575\u001b[0m         \u001b[0mout\u001b[0m \u001b[0;34m=\u001b[0m \u001b[0mNone\u001b[0m\u001b[0;34m\u001b[0m\u001b[0m\n",
      "\u001b[0;31mRuntimeError\u001b[0m: You asked to overwrite or fillin over the dimension source but it not a valid dimension ([   id: variable\n   Length: 1\n   First:  test\n   Last:   test\n   Python id:  0x7fe5c263c1d0\n,    id: metric\n   Length: 9\n   First:  EnsoAlphaLhf\n   Last:   EnsoSeasonality\n   Python id:  0x7fe5c263ca50\n,    id: model\n   Length: 19\n   First:  ACCESS1-0\n   Last:   NorESM1-ME\n   Python id:  0x7fe5c263cbd0\n,    id: type\n   Length: 2\n   First:  metric\n   Last:   raw\n   Python id:  0x7fe5c263c210\n,    id: source\n   Length: 5\n   First:  HadISST\n   Last:   model\n   Python id:  0x7fe5c263c150\n,    id: statistic\n   Length: 4\n   First:  nonlinearity\n   Last:   value_error\n   Python id:  0x7fe5c263cf50\n])"
     ]
    }
   ],
   "source": [
    "rms_xy = J(statistic=[\"value\"],type=[\"metric\"],source=[\"HadISST\", \"HadISST_Tropflux\"],\n",
    "               model=models_list,metric=metrics_list, fillin=\"source\")(squeeze=1)\n",
    "print rms_xy.shape, rms_xy.count()"
   ]
  },
  {
   "cell_type": "markdown",
   "metadata": {},
   "source": [
    "## Normalize by median value (OBS NOT included for now)"
   ]
  },
  {
   "cell_type": "markdown",
   "metadata": {},
   "source": [
    "test something"
   ]
  },
  {
   "cell_type": "code",
   "execution_count": null,
   "metadata": {},
   "outputs": [],
   "source": [
    "median = genutil.statistics.median(rms_xy,axis=1)[0]\n",
    "\n",
    "print median\n",
    "print median.shape"
   ]
  },
  {
   "cell_type": "code",
   "execution_count": null,
   "metadata": {},
   "outputs": [],
   "source": [
    "#match shapes\n",
    "rms_xy, median = genutil.grower(rms_xy,median)\n",
    "print rms_xy.shape\n",
    "print median.shape\n",
    "\n",
    "#Loose info on median\n",
    "median = median.filled()\n",
    "\n",
    "# normalize\n",
    "rms_xy = MV2.divide(MV2.subtract(rms_xy.filled(),median),median)"
   ]
  },
  {
   "cell_type": "code",
   "execution_count": null,
   "metadata": {},
   "outputs": [],
   "source": [
    "P = pcmdi_metrics.graphics.portraits.Portrait()\n",
    "#P.PLOT_SETTINGS.colorm\n",
    "xax = [s.encode('utf-8')+' ' for s in models_list]  # CHANGE FROM UNICODE TO BYTE STRINGS\n",
    "yax = [s.encode('utf-8')+' ' for s in metrics_list]"
   ]
  },
  {
   "cell_type": "markdown",
   "metadata": {},
   "source": [
    "## Plotting"
   ]
  },
  {
   "cell_type": "code",
   "execution_count": null,
   "metadata": {},
   "outputs": [],
   "source": [
    "# Preprocessing step to \"decorate\" the axis\n",
    "P.decorate(rms_xy, yax, xax)\n",
    "\n",
    "x.clear()"
   ]
  },
  {
   "cell_type": "code",
   "execution_count": null,
   "metadata": {},
   "outputs": [],
   "source": [
    "P.plot(rms_xy,x=x)\n",
    "\n",
    "show()"
   ]
  },
  {
   "cell_type": "markdown",
   "metadata": {},
   "source": [
    "## Customize plot"
   ]
  },
  {
   "cell_type": "code",
   "execution_count": null,
   "metadata": {},
   "outputs": [],
   "source": [
    "SET = P.PLOT_SETTINGS\n",
    "\n",
    "# Viewport on the Canvas\n",
    "SET.x1 = .15\n",
    "SET.x2 = .85\n",
    "SET.y1 = .3\n",
    "SET.y2 = .8\n",
    "\n",
    "# Both X (horizontal) and y (VERTICAL) ticks\n",
    "# Text table\n",
    "SET.tictable = vcs.createtexttable()\n",
    "SET.tictable.color=\"black\"\n",
    "\n",
    "# X (bottom) ticks\n",
    "# Text Orientation\n",
    "SET.xticorientation = vcs.createtextorientation()\n",
    "SET.xticorientation.angle = -90\n",
    "SET.xticorientation.halign=\"right\"\n",
    "SET.xticorientation.height = 20\n",
    "\n",
    "# Y (vertical) ticks\n",
    "SET.yticorientation = vcs.createtextorientation()\n",
    "SET.yticorientation.angle = 0\n",
    "SET.yticorientation.halign=\"right\"\n",
    "SET.yticorientation.height = 20\n",
    "\n",
    "# Parameters\n",
    "#SET.parameterorientation = vcs.createtextorientation()\n",
    "#SET.parameterorientation.height = 60\n",
    "#SET.parametertable = vcs.createtexttable()\n",
    "#SET.parametertable.color = \"blue\"\n",
    "\n",
    "# We can turn off the \"grid\"\n",
    "SET.draw_mesh = \"n\"\n",
    "SET.draw_mesh = \"y\"\n",
    "\n",
    "\n",
    "# Control color for missing\n",
    "#SET.missing_color = \"light grey\"\n",
    "SET.missing_color = \"grey\"\n",
    "#SET.missing_color = \"white\"\n",
    "\n",
    "# Tics length\n",
    "SET.xtic1.y1 = 0\n",
    "SET.xtic1.y2 = 0\n",
    "\n",
    "# Timestamp\n",
    "SET.time_stamp = None\n",
    "\n",
    "# Colormap\n",
    "SET.colormap = \"inferno\"\n",
    "SET.colormap = \"default\"\n",
    "SET.colormap = \"rainbow\"\n",
    "SET.colormap = \"bl_to_darkred\"\n",
    "\n",
    "# level to use\n",
    "#SET.levels = [-.7,-.6,-.5,-.4,-.3,-.2,-.1,0,.1,.2,.3,.4,.5,.6,.7,.8,.9,1.,1.1,1.2,1.3,1.4,1.5]\n",
    "SET.levels = [-1., -.8, -.6,-.4,-.2,0,.2,.4,.6,.8,1.]\n",
    "SET.levels.insert(0,-1.e20)\n",
    "SET.levels.append(1.e20)\n",
    "\n",
    "# colors to use\n",
    "SET.fillareacolors = vcs.getcolors(SET.levels,split=0,colors=range(16,240))\n",
    "\n",
    "x.clear()\n",
    "P.plot(rms_xy,x=x)\n",
    "show()"
   ]
  },
  {
   "cell_type": "code",
   "execution_count": null,
   "metadata": {},
   "outputs": [],
   "source": [
    "x.png('ENSO_PP.png')"
   ]
  },
  {
   "cell_type": "markdown",
   "metadata": {},
   "source": [
    "## Annotated Plot "
   ]
  },
  {
   "cell_type": "code",
   "execution_count": null,
   "metadata": {},
   "outputs": [],
   "source": [
    "# PARAMETERS STUFF\n",
    "P = pcmdi_metrics.graphics.portraits.Portrait()\n",
    "\n",
    "P.PLOT_SETTINGS.values.show = True\n",
    "#P.PLOT_SETTINGS.values.text.angle = -45\n",
    "#P.PLOT_SETTINGS.values.lightcolor = \"green\"\n",
    "#P.PLOT_SETTINGS.values.darkcolor = \"red\"\n",
    "\n",
    "P.PLOT_SETTINGS.draw_mesh = \"y\"\n",
    "#P.PLOT_SETTINGS.colormap = \"bl_to_darkred\"\n",
    "\n",
    "P.PLOT_SETTINGS.xticorientation.height = 18\n",
    "P.PLOT_SETTINGS.yticorientation.height = 18\n",
    "\n",
    "x.clear()\n",
    "P.plot(rms_xy,x=x)\n",
    "show()"
   ]
  }
 ],
 "metadata": {
  "kernelspec": {
   "display_name": "Python [conda env:pmp]",
   "language": "python",
   "name": "conda-env-pmp-py"
  },
  "language_info": {
   "codemirror_mode": {
    "name": "ipython",
    "version": 2
   },
   "file_extension": ".py",
   "mimetype": "text/x-python",
   "name": "python",
   "nbconvert_exporter": "python",
   "pygments_lexer": "ipython2",
   "version": "2.7.15"
  }
 },
 "nbformat": 4,
 "nbformat_minor": 2
}
